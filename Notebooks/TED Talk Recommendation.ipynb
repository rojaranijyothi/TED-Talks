{
 "cells": [
  {
   "cell_type": "markdown",
   "metadata": {},
   "source": [
    "### Steps to follow for recommendation function\n",
    "\n",
    "- Text Preprocessing\n",
    "- Tfidf Vectorizer\n",
    "- Generate Cosine similarity matrix"
   ]
  },
  {
   "cell_type": "code",
   "execution_count": 54,
   "metadata": {},
   "outputs": [],
   "source": [
    "#Import all the necessary libraries\n",
    "import warnings\n",
    "warnings.filterwarnings(\"ignore\")\n",
    "\n",
    "import pandas as pd\n",
    "import numpy as np\n",
    "\n",
    "import matplotlib.pyplot as plt\n",
    "%matplotlib inline\n",
    "import seaborn as sns\n",
    "sns.set_style('darkgrid')\n",
    "import wordcloud\n",
    "\n",
    "import pickle\n",
    "\n",
    "## for text processing\n",
    "import re\n",
    "\n",
    "## for ner\n",
    "import spacy\n",
    "\n",
    "## for vectorizer\n",
    "from sklearn import feature_extraction\n"
   ]
  },
  {
   "cell_type": "code",
   "execution_count": 55,
   "metadata": {},
   "outputs": [
    {
     "data": {
      "text/html": [
       "<div>\n",
       "<style scoped>\n",
       "    .dataframe tbody tr th:only-of-type {\n",
       "        vertical-align: middle;\n",
       "    }\n",
       "\n",
       "    .dataframe tbody tr th {\n",
       "        vertical-align: top;\n",
       "    }\n",
       "\n",
       "    .dataframe thead th {\n",
       "        text-align: right;\n",
       "    }\n",
       "</style>\n",
       "<table border=\"1\" class=\"dataframe\">\n",
       "  <thead>\n",
       "    <tr style=\"text-align: right;\">\n",
       "      <th></th>\n",
       "      <th>name</th>\n",
       "      <th>title</th>\n",
       "      <th>description</th>\n",
       "      <th>main_speaker</th>\n",
       "      <th>speaker_occupation</th>\n",
       "      <th>transcript</th>\n",
       "      <th>duration</th>\n",
       "      <th>film_date</th>\n",
       "      <th>published_date</th>\n",
       "      <th>languages</th>\n",
       "      <th>...</th>\n",
       "      <th>ingenious</th>\n",
       "      <th>courageous</th>\n",
       "      <th>longwinded</th>\n",
       "      <th>informative</th>\n",
       "      <th>fascinating</th>\n",
       "      <th>unconvincing</th>\n",
       "      <th>persuasive</th>\n",
       "      <th>ok</th>\n",
       "      <th>obnoxious</th>\n",
       "      <th>rating</th>\n",
       "    </tr>\n",
       "  </thead>\n",
       "  <tbody>\n",
       "    <tr>\n",
       "      <th>0</th>\n",
       "      <td>Ken Robinson: Do schools kill creativity?</td>\n",
       "      <td>Do schools kill creativity?</td>\n",
       "      <td>Sir Ken Robinson makes an entertaining and pro...</td>\n",
       "      <td>['Ken Robinson']</td>\n",
       "      <td>['Author', 'educator']</td>\n",
       "      <td>Good morning. How are you?(Laughter)It's been ...</td>\n",
       "      <td>19.400000</td>\n",
       "      <td>2006-02-24</td>\n",
       "      <td>2006-06-26</td>\n",
       "      <td>60</td>\n",
       "      <td>...</td>\n",
       "      <td>6073</td>\n",
       "      <td>3253</td>\n",
       "      <td>387</td>\n",
       "      <td>7346</td>\n",
       "      <td>10581</td>\n",
       "      <td>300</td>\n",
       "      <td>10704</td>\n",
       "      <td>1174</td>\n",
       "      <td>209</td>\n",
       "      <td>Inspiring</td>\n",
       "    </tr>\n",
       "    <tr>\n",
       "      <th>1</th>\n",
       "      <td>Al Gore: Averting the climate crisis</td>\n",
       "      <td>Averting the climate crisis</td>\n",
       "      <td>With the same humor and humanity he exuded in ...</td>\n",
       "      <td>['Al Gore']</td>\n",
       "      <td>['Climate advocate']</td>\n",
       "      <td>Thank you so much, Chris. And it's truly a gre...</td>\n",
       "      <td>16.283333</td>\n",
       "      <td>2006-02-24</td>\n",
       "      <td>2006-06-26</td>\n",
       "      <td>43</td>\n",
       "      <td>...</td>\n",
       "      <td>56</td>\n",
       "      <td>139</td>\n",
       "      <td>113</td>\n",
       "      <td>443</td>\n",
       "      <td>132</td>\n",
       "      <td>258</td>\n",
       "      <td>268</td>\n",
       "      <td>203</td>\n",
       "      <td>131</td>\n",
       "      <td>Funny</td>\n",
       "    </tr>\n",
       "    <tr>\n",
       "      <th>2</th>\n",
       "      <td>David Pogue: Simplicity sells</td>\n",
       "      <td>Simplicity sells</td>\n",
       "      <td>New York Times columnist David Pogue takes aim...</td>\n",
       "      <td>['David Pogue']</td>\n",
       "      <td>['Technology columnist']</td>\n",
       "      <td>(Music: \"The Sound of Silence,\" Simon &amp; Garfun...</td>\n",
       "      <td>21.433333</td>\n",
       "      <td>2006-02-23</td>\n",
       "      <td>2006-06-26</td>\n",
       "      <td>26</td>\n",
       "      <td>...</td>\n",
       "      <td>183</td>\n",
       "      <td>45</td>\n",
       "      <td>78</td>\n",
       "      <td>395</td>\n",
       "      <td>166</td>\n",
       "      <td>104</td>\n",
       "      <td>230</td>\n",
       "      <td>146</td>\n",
       "      <td>142</td>\n",
       "      <td>Funny</td>\n",
       "    </tr>\n",
       "    <tr>\n",
       "      <th>3</th>\n",
       "      <td>Majora Carter: Greening the ghetto</td>\n",
       "      <td>Greening the ghetto</td>\n",
       "      <td>In an emotionally charged talk, MacArthur-winn...</td>\n",
       "      <td>['Majora Carter']</td>\n",
       "      <td>['Activist for environmental justice']</td>\n",
       "      <td>If you're here today — and I'm very happy that...</td>\n",
       "      <td>18.600000</td>\n",
       "      <td>2006-02-25</td>\n",
       "      <td>2006-06-26</td>\n",
       "      <td>35</td>\n",
       "      <td>...</td>\n",
       "      <td>105</td>\n",
       "      <td>760</td>\n",
       "      <td>53</td>\n",
       "      <td>380</td>\n",
       "      <td>132</td>\n",
       "      <td>36</td>\n",
       "      <td>460</td>\n",
       "      <td>85</td>\n",
       "      <td>35</td>\n",
       "      <td>Inspiring</td>\n",
       "    </tr>\n",
       "    <tr>\n",
       "      <th>4</th>\n",
       "      <td>Hans Rosling: The best stats you've ever seen</td>\n",
       "      <td>The best stats you've ever seen</td>\n",
       "      <td>You've never seen data presented like this. Wi...</td>\n",
       "      <td>['Hans Rosling']</td>\n",
       "      <td>['Global health expert', ' data visionary']</td>\n",
       "      <td>About 10 years ago, I took on the task to teac...</td>\n",
       "      <td>19.833333</td>\n",
       "      <td>2006-02-21</td>\n",
       "      <td>2006-06-27</td>\n",
       "      <td>48</td>\n",
       "      <td>...</td>\n",
       "      <td>3202</td>\n",
       "      <td>318</td>\n",
       "      <td>110</td>\n",
       "      <td>5433</td>\n",
       "      <td>4606</td>\n",
       "      <td>67</td>\n",
       "      <td>2542</td>\n",
       "      <td>248</td>\n",
       "      <td>61</td>\n",
       "      <td>Informative</td>\n",
       "    </tr>\n",
       "  </tbody>\n",
       "</table>\n",
       "<p>5 rows × 47 columns</p>\n",
       "</div>"
      ],
      "text/plain": [
       "                                            name  \\\n",
       "0      Ken Robinson: Do schools kill creativity?   \n",
       "1           Al Gore: Averting the climate crisis   \n",
       "2                  David Pogue: Simplicity sells   \n",
       "3             Majora Carter: Greening the ghetto   \n",
       "4  Hans Rosling: The best stats you've ever seen   \n",
       "\n",
       "                             title  \\\n",
       "0      Do schools kill creativity?   \n",
       "1      Averting the climate crisis   \n",
       "2                 Simplicity sells   \n",
       "3              Greening the ghetto   \n",
       "4  The best stats you've ever seen   \n",
       "\n",
       "                                         description       main_speaker  \\\n",
       "0  Sir Ken Robinson makes an entertaining and pro...   ['Ken Robinson']   \n",
       "1  With the same humor and humanity he exuded in ...        ['Al Gore']   \n",
       "2  New York Times columnist David Pogue takes aim...    ['David Pogue']   \n",
       "3  In an emotionally charged talk, MacArthur-winn...  ['Majora Carter']   \n",
       "4  You've never seen data presented like this. Wi...   ['Hans Rosling']   \n",
       "\n",
       "                            speaker_occupation  \\\n",
       "0                       ['Author', 'educator']   \n",
       "1                         ['Climate advocate']   \n",
       "2                     ['Technology columnist']   \n",
       "3       ['Activist for environmental justice']   \n",
       "4  ['Global health expert', ' data visionary']   \n",
       "\n",
       "                                          transcript   duration   film_date  \\\n",
       "0  Good morning. How are you?(Laughter)It's been ...  19.400000  2006-02-24   \n",
       "1  Thank you so much, Chris. And it's truly a gre...  16.283333  2006-02-24   \n",
       "2  (Music: \"The Sound of Silence,\" Simon & Garfun...  21.433333  2006-02-23   \n",
       "3  If you're here today — and I'm very happy that...  18.600000  2006-02-25   \n",
       "4  About 10 years ago, I took on the task to teac...  19.833333  2006-02-21   \n",
       "\n",
       "  published_date  languages  ...  ingenious courageous  longwinded  \\\n",
       "0     2006-06-26         60  ...       6073       3253         387   \n",
       "1     2006-06-26         43  ...         56        139         113   \n",
       "2     2006-06-26         26  ...        183         45          78   \n",
       "3     2006-06-26         35  ...        105        760          53   \n",
       "4     2006-06-27         48  ...       3202        318         110   \n",
       "\n",
       "  informative  fascinating unconvincing persuasive    ok  obnoxious  \\\n",
       "0        7346        10581          300      10704  1174        209   \n",
       "1         443          132          258        268   203        131   \n",
       "2         395          166          104        230   146        142   \n",
       "3         380          132           36        460    85         35   \n",
       "4        5433         4606           67       2542   248         61   \n",
       "\n",
       "        rating  \n",
       "0    Inspiring  \n",
       "1        Funny  \n",
       "2        Funny  \n",
       "3    Inspiring  \n",
       "4  Informative  \n",
       "\n",
       "[5 rows x 47 columns]"
      ]
     },
     "execution_count": 55,
     "metadata": {},
     "output_type": "execute_result"
    }
   ],
   "source": [
    "#Load the preprocessed data\n",
    "ted_talks = pd.read_csv(\"/Users/HOME/Desktop/Springboard/TED-Talks/Data/preprocessed_ted.csv\",index_col = 0)\n",
    "ted_talks.head()"
   ]
  },
  {
   "cell_type": "code",
   "execution_count": 56,
   "metadata": {},
   "outputs": [
    {
     "data": {
      "text/plain": [
       "Index(['name', 'title', 'description', 'main_speaker', 'speaker_occupation',\n",
       "       'transcript', 'duration', 'film_date', 'published_date', 'languages',\n",
       "       'num_speaker', 'event', 'comments', 'ratings', 'views', 'tags',\n",
       "       'related_talks', 'url', 'film_year', 'film_month', 'film_day',\n",
       "       'views_per_comment', 'num_ratings', 'funny', 'beautiful', 'inspiring',\n",
       "       'confusing', 'jaw_dropping', 'lang', 'word_count', 'char_count',\n",
       "       'sentence_count', 'avg_word_length', 'avg_sentence_length', 'sentiment',\n",
       "       'clean_transc', 'sentiment_category', 'ingenious', 'courageous',\n",
       "       'longwinded', 'informative', 'fascinating', 'unconvincing',\n",
       "       'persuasive', 'ok', 'obnoxious', 'rating'],\n",
       "      dtype='object')"
      ]
     },
     "execution_count": 56,
     "metadata": {},
     "output_type": "execute_result"
    }
   ],
   "source": [
    "ted_talks.columns"
   ]
  },
  {
   "cell_type": "code",
   "execution_count": 57,
   "metadata": {},
   "outputs": [
    {
     "data": {
      "text/plain": [
       "0       ['children', 'creativity', 'culture', 'dance',...\n",
       "1       ['alternative energy', 'cars', 'climate change...\n",
       "2       ['computers', 'entertainment', 'interface desi...\n",
       "3       ['MacArthur grant', 'activism', 'business', 'c...\n",
       "4       ['Africa', 'Asia', 'Google', 'demo', 'economic...\n",
       "                              ...                        \n",
       "2548    ['TED Residency', 'United States', 'community'...\n",
       "2549    ['Mars', 'South America', 'TED Fellows', 'astr...\n",
       "2550    ['AI', 'ants', 'fish', 'future', 'innovation',...\n",
       "2551    ['Internet', 'TEDx', 'United States', 'communi...\n",
       "2552    ['cities', 'design', 'future', 'infrastructure...\n",
       "Name: tags, Length: 2549, dtype: object"
      ]
     },
     "execution_count": 57,
     "metadata": {},
     "output_type": "execute_result"
    }
   ],
   "source": [
    "ted_talks.tags"
   ]
  },
  {
   "cell_type": "code",
   "execution_count": 58,
   "metadata": {},
   "outputs": [],
   "source": [
    "#removing the unneccessary characters from url\n",
    "ted_talks['url'] = ted_talks['url'].apply(lambda x: x.strip(\"\\n\"))"
   ]
  },
  {
   "cell_type": "code",
   "execution_count": 59,
   "metadata": {},
   "outputs": [],
   "source": [
    "#selecting the required features from dataset\n",
    "ted_talks = ted_talks[['title','clean_transc','url','tags']]"
   ]
  },
  {
   "cell_type": "code",
   "execution_count": 60,
   "metadata": {},
   "outputs": [
    {
     "data": {
      "text/plain": [
       "(2549, 4)"
      ]
     },
     "execution_count": 60,
     "metadata": {},
     "output_type": "execute_result"
    }
   ],
   "source": [
    "ted_talks.shape"
   ]
  },
  {
   "cell_type": "code",
   "execution_count": 61,
   "metadata": {},
   "outputs": [
    {
     "data": {
      "text/plain": [
       "True"
      ]
     },
     "execution_count": 61,
     "metadata": {},
     "output_type": "execute_result"
    }
   ],
   "source": [
    "ted_talks['clean_transc'].isna().any()"
   ]
  },
  {
   "cell_type": "code",
   "execution_count": 62,
   "metadata": {},
   "outputs": [],
   "source": [
    "#filter out the null transcripts\n",
    "ted_talks = ted_talks[~ (ted_talks['clean_transc'].isna())]\n",
    "ted_talks.reset_index(drop=True, inplace=True)"
   ]
  },
  {
   "cell_type": "code",
   "execution_count": 63,
   "metadata": {
    "scrolled": true
   },
   "outputs": [
    {
     "data": {
      "text/html": [
       "<div>\n",
       "<style scoped>\n",
       "    .dataframe tbody tr th:only-of-type {\n",
       "        vertical-align: middle;\n",
       "    }\n",
       "\n",
       "    .dataframe tbody tr th {\n",
       "        vertical-align: top;\n",
       "    }\n",
       "\n",
       "    .dataframe thead th {\n",
       "        text-align: right;\n",
       "    }\n",
       "</style>\n",
       "<table border=\"1\" class=\"dataframe\">\n",
       "  <thead>\n",
       "    <tr style=\"text-align: right;\">\n",
       "      <th></th>\n",
       "      <th>title</th>\n",
       "      <th>description</th>\n",
       "      <th>transcript</th>\n",
       "      <th>summary</th>\n",
       "    </tr>\n",
       "  </thead>\n",
       "  <tbody>\n",
       "    <tr>\n",
       "      <th>0</th>\n",
       "      <td>Do schools kill creativity?</td>\n",
       "      <td>Sir Ken Robinson makes an entertaining and pro...</td>\n",
       "      <td>Good morning. How are you?(Laughter)It's been ...</td>\n",
       "      <td>I think you'd have to conclude, if you look at...</td>\n",
       "    </tr>\n",
       "    <tr>\n",
       "      <th>1</th>\n",
       "      <td>Averting the climate crisis</td>\n",
       "      <td>With the same humor and humanity he exuded in ...</td>\n",
       "      <td>Thank you so much, Chris. And it's truly a gre...</td>\n",
       "      <td>And so I'm going to be conducting a course thi...</td>\n",
       "    </tr>\n",
       "    <tr>\n",
       "      <th>2</th>\n",
       "      <td>Simplicity sells</td>\n",
       "      <td>New York Times columnist David Pogue takes aim...</td>\n",
       "      <td>(Music: \"The Sound of Silence,\" Simon &amp; Garfun...</td>\n",
       "      <td>And the truth is, for years I was a little dep...</td>\n",
       "    </tr>\n",
       "    <tr>\n",
       "      <th>3</th>\n",
       "      <td>Greening the ghetto</td>\n",
       "      <td>In an emotionally charged talk, MacArthur-winn...</td>\n",
       "      <td>If you're here today — and I'm very happy that...</td>\n",
       "      <td>When she came into my life, we were fighting a...</td>\n",
       "    </tr>\n",
       "    <tr>\n",
       "      <th>4</th>\n",
       "      <td>The best stats you've ever seen</td>\n",
       "      <td>You've never seen data presented like this. Wi...</td>\n",
       "      <td>About 10 years ago, I took on the task to teac...</td>\n",
       "      <td>And in the '90s, we have the terrible HIV epid...</td>\n",
       "    </tr>\n",
       "  </tbody>\n",
       "</table>\n",
       "</div>"
      ],
      "text/plain": [
       "                             title  \\\n",
       "0      Do schools kill creativity?   \n",
       "1      Averting the climate crisis   \n",
       "2                 Simplicity sells   \n",
       "3              Greening the ghetto   \n",
       "4  The best stats you've ever seen   \n",
       "\n",
       "                                         description  \\\n",
       "0  Sir Ken Robinson makes an entertaining and pro...   \n",
       "1  With the same humor and humanity he exuded in ...   \n",
       "2  New York Times columnist David Pogue takes aim...   \n",
       "3  In an emotionally charged talk, MacArthur-winn...   \n",
       "4  You've never seen data presented like this. Wi...   \n",
       "\n",
       "                                          transcript  \\\n",
       "0  Good morning. How are you?(Laughter)It's been ...   \n",
       "1  Thank you so much, Chris. And it's truly a gre...   \n",
       "2  (Music: \"The Sound of Silence,\" Simon & Garfun...   \n",
       "3  If you're here today — and I'm very happy that...   \n",
       "4  About 10 years ago, I took on the task to teac...   \n",
       "\n",
       "                                             summary  \n",
       "0  I think you'd have to conclude, if you look at...  \n",
       "1  And so I'm going to be conducting a course thi...  \n",
       "2  And the truth is, for years I was a little dep...  \n",
       "3  When she came into my life, we were fighting a...  \n",
       "4  And in the '90s, we have the terrible HIV epid...  "
      ]
     },
     "execution_count": 63,
     "metadata": {},
     "output_type": "execute_result"
    }
   ],
   "source": [
    "ted_summ = pd.read_pickle(\"/Users/HOME/Desktop/Springboard/TED-Talks/Models/ted_summary.pkl\")\n",
    "ted_summ.head()"
   ]
  },
  {
   "cell_type": "code",
   "execution_count": 64,
   "metadata": {},
   "outputs": [
    {
     "data": {
      "text/html": [
       "<div>\n",
       "<style scoped>\n",
       "    .dataframe tbody tr th:only-of-type {\n",
       "        vertical-align: middle;\n",
       "    }\n",
       "\n",
       "    .dataframe tbody tr th {\n",
       "        vertical-align: top;\n",
       "    }\n",
       "\n",
       "    .dataframe thead th {\n",
       "        text-align: right;\n",
       "    }\n",
       "</style>\n",
       "<table border=\"1\" class=\"dataframe\">\n",
       "  <thead>\n",
       "    <tr style=\"text-align: right;\">\n",
       "      <th></th>\n",
       "      <th>title</th>\n",
       "      <th>clean_transc</th>\n",
       "      <th>url</th>\n",
       "      <th>tags</th>\n",
       "      <th>description</th>\n",
       "      <th>transcript</th>\n",
       "      <th>summary</th>\n",
       "    </tr>\n",
       "  </thead>\n",
       "  <tbody>\n",
       "    <tr>\n",
       "      <th>0</th>\n",
       "      <td>Do schools kill creativity?</td>\n",
       "      <td>good morning great blow away thing fact leave ...</td>\n",
       "      <td>https://www.ted.com/talks/ken_robinson_says_sc...</td>\n",
       "      <td>['children', 'creativity', 'culture', 'dance',...</td>\n",
       "      <td>Sir Ken Robinson makes an entertaining and pro...</td>\n",
       "      <td>Good morning. How are you?(Laughter)It's been ...</td>\n",
       "      <td>I think you'd have to conclude, if you look at...</td>\n",
       "    </tr>\n",
       "    <tr>\n",
       "      <th>1</th>\n",
       "      <td>Averting the climate crisis</td>\n",
       "      <td>thank chris truly great honor opportunity come...</td>\n",
       "      <td>https://www.ted.com/talks/al_gore_on_averting_...</td>\n",
       "      <td>['alternative energy', 'cars', 'climate change...</td>\n",
       "      <td>With the same humor and humanity he exuded in ...</td>\n",
       "      <td>Thank you so much, Chris. And it's truly a gre...</td>\n",
       "      <td>And so I'm going to be conducting a course thi...</td>\n",
       "    </tr>\n",
       "    <tr>\n",
       "      <th>2</th>\n",
       "      <td>Simplicity sells</td>\n",
       "      <td>hello voice mail old friend tech support ignor...</td>\n",
       "      <td>https://www.ted.com/talks/david_pogue_says_sim...</td>\n",
       "      <td>['computers', 'entertainment', 'interface desi...</td>\n",
       "      <td>New York Times columnist David Pogue takes aim...</td>\n",
       "      <td>(Music: \"The Sound of Silence,\" Simon &amp; Garfun...</td>\n",
       "      <td>And the truth is, for years I was a little dep...</td>\n",
       "    </tr>\n",
       "    <tr>\n",
       "      <th>3</th>\n",
       "      <td>Greening the ghetto</td>\n",
       "      <td>today happy hear sustainable development save ...</td>\n",
       "      <td>https://www.ted.com/talks/majora_carter_s_tale...</td>\n",
       "      <td>['MacArthur grant', 'activism', 'business', 'c...</td>\n",
       "      <td>In an emotionally charged talk, MacArthur-winn...</td>\n",
       "      <td>If you're here today — and I'm very happy that...</td>\n",
       "      <td>When she came into my life, we were fighting a...</td>\n",
       "    </tr>\n",
       "    <tr>\n",
       "      <th>4</th>\n",
       "      <td>The best stats you've ever seen</td>\n",
       "      <td>year ago task teach global development swedish...</td>\n",
       "      <td>https://www.ted.com/talks/hans_rosling_shows_t...</td>\n",
       "      <td>['Africa', 'Asia', 'Google', 'demo', 'economic...</td>\n",
       "      <td>You've never seen data presented like this. Wi...</td>\n",
       "      <td>About 10 years ago, I took on the task to teac...</td>\n",
       "      <td>And in the '90s, we have the terrible HIV epid...</td>\n",
       "    </tr>\n",
       "  </tbody>\n",
       "</table>\n",
       "</div>"
      ],
      "text/plain": [
       "                             title  \\\n",
       "0      Do schools kill creativity?   \n",
       "1      Averting the climate crisis   \n",
       "2                 Simplicity sells   \n",
       "3              Greening the ghetto   \n",
       "4  The best stats you've ever seen   \n",
       "\n",
       "                                        clean_transc  \\\n",
       "0  good morning great blow away thing fact leave ...   \n",
       "1  thank chris truly great honor opportunity come...   \n",
       "2  hello voice mail old friend tech support ignor...   \n",
       "3  today happy hear sustainable development save ...   \n",
       "4  year ago task teach global development swedish...   \n",
       "\n",
       "                                                 url  \\\n",
       "0  https://www.ted.com/talks/ken_robinson_says_sc...   \n",
       "1  https://www.ted.com/talks/al_gore_on_averting_...   \n",
       "2  https://www.ted.com/talks/david_pogue_says_sim...   \n",
       "3  https://www.ted.com/talks/majora_carter_s_tale...   \n",
       "4  https://www.ted.com/talks/hans_rosling_shows_t...   \n",
       "\n",
       "                                                tags  \\\n",
       "0  ['children', 'creativity', 'culture', 'dance',...   \n",
       "1  ['alternative energy', 'cars', 'climate change...   \n",
       "2  ['computers', 'entertainment', 'interface desi...   \n",
       "3  ['MacArthur grant', 'activism', 'business', 'c...   \n",
       "4  ['Africa', 'Asia', 'Google', 'demo', 'economic...   \n",
       "\n",
       "                                         description  \\\n",
       "0  Sir Ken Robinson makes an entertaining and pro...   \n",
       "1  With the same humor and humanity he exuded in ...   \n",
       "2  New York Times columnist David Pogue takes aim...   \n",
       "3  In an emotionally charged talk, MacArthur-winn...   \n",
       "4  You've never seen data presented like this. Wi...   \n",
       "\n",
       "                                          transcript  \\\n",
       "0  Good morning. How are you?(Laughter)It's been ...   \n",
       "1  Thank you so much, Chris. And it's truly a gre...   \n",
       "2  (Music: \"The Sound of Silence,\" Simon & Garfun...   \n",
       "3  If you're here today — and I'm very happy that...   \n",
       "4  About 10 years ago, I took on the task to teac...   \n",
       "\n",
       "                                             summary  \n",
       "0  I think you'd have to conclude, if you look at...  \n",
       "1  And so I'm going to be conducting a course thi...  \n",
       "2  And the truth is, for years I was a little dep...  \n",
       "3  When she came into my life, we were fighting a...  \n",
       "4  And in the '90s, we have the terrible HIV epid...  "
      ]
     },
     "execution_count": 64,
     "metadata": {},
     "output_type": "execute_result"
    }
   ],
   "source": [
    "ted_talks = ted_talks.merge(ted_summ, on = ('title'),how = \"left\")\n",
    "ted_talks.head()"
   ]
  },
  {
   "cell_type": "markdown",
   "metadata": {},
   "source": [
    "### Term Frequency-Inverse Document Frequency (Tf-Idf)\n",
    "\n",
    "Term Frequency measures how often the word appears in a given document, while Inverse document frequency measures how rare the word is in a corpus. The product of these two quantities, measures the importance of the word and is known as Tf-Idf."
   ]
  },
  {
   "cell_type": "code",
   "execution_count": 65,
   "metadata": {},
   "outputs": [
    {
     "data": {
      "text/plain": [
       "(2455, 44699)"
      ]
     },
     "execution_count": 65,
     "metadata": {},
     "output_type": "execute_result"
    }
   ],
   "source": [
    "#Tf-idf Vectorizer on clean_transc feature\n",
    "from spacy.lang.en.stop_words import STOP_WORDS\n",
    "import en_core_web_sm\n",
    "from sklearn.feature_extraction.text import TfidfVectorizer\n",
    "tv = TfidfVectorizer(strip_accents = 'ascii',stop_words = STOP_WORDS)\n",
    "tfidf_matrix = tv.fit_transform(ted_talks['clean_transc'])\n",
    "tfidf_matrix.shape          "
   ]
  },
  {
   "cell_type": "markdown",
   "metadata": {},
   "source": [
    "### Finding similar TED Talks\n",
    "\n",
    "- To find out similar talks among different talks, we will need to compute a measure of similarity. Usually when dealing with Tf-Idf vectors, we use cosine similarity.\n",
    "- The cosine similarity will become a means for us to find out how similar the transcript of one Ted Talk is to the other."
   ]
  },
  {
   "cell_type": "code",
   "execution_count": 66,
   "metadata": {},
   "outputs": [
    {
     "name": "stdout",
     "output_type": "stream",
     "text": [
      "CPU times: user 1.42 s, sys: 82.9 ms, total: 1.51 s\n",
      "Wall time: 1.53 s\n"
     ]
    }
   ],
   "source": [
    "%%time\n",
    "from sklearn.metrics.pairwise import cosine_similarity\n",
    "cosine_sim = cosine_similarity(tfidf_matrix)"
   ]
  },
  {
   "cell_type": "code",
   "execution_count": 67,
   "metadata": {},
   "outputs": [
    {
     "name": "stdout",
     "output_type": "stream",
     "text": [
      "CPU times: user 1.21 s, sys: 32 ms, total: 1.24 s\n",
      "Wall time: 1.26 s\n"
     ]
    }
   ],
   "source": [
    "%%time\n",
    "from sklearn.metrics.pairwise import linear_kernel\n",
    "cosine_sim_linear = linear_kernel(tfidf_matrix)"
   ]
  },
  {
   "cell_type": "markdown",
   "metadata": {},
   "source": [
    "### Recommender function\n",
    "\n",
    "- For each transcript, we are going to find out the 10 most similar ones, based on cosine similarity. \n",
    "\n",
    "#### STEPS \n",
    "\n",
    "- 1.Take a movie title,cosine similarity matrix, and indices series as arguments.\n",
    "- 2.Extract pairwise cosine similarity scores for the movie\n",
    "- 3.Sort the scores in descending order\n",
    "- 4.Output titles corresponding to the highest scores\n"
   ]
  },
  {
   "cell_type": "code",
   "execution_count": 68,
   "metadata": {},
   "outputs": [],
   "source": [
    "#generating mapping between titles and index\n",
    "indices = pd.Series(ted_talks.index, index = ted_talks['title']).drop_duplicates()"
   ]
  },
  {
   "cell_type": "code",
   "execution_count": 73,
   "metadata": {},
   "outputs": [],
   "source": [
    "def get_recommendations(title,cosine_sim,indices):\n",
    "    #get indices of the movie that matches title\n",
    "    idx = indices[title]\n",
    "    #sort the movies based on the similarity scores\n",
    "    sim_scores = list(enumerate(cosine_sim[idx]))\n",
    "    sim_scores = sorted(sim_scores,key = lambda x:x[1],reverse = True)\n",
    "    #get the scores for 10 most similar movies\n",
    "    sim_scores = sim_scores[1:11]\n",
    "    #get the movie indices\n",
    "    movie_indices = [i[0] for i in sim_scores]\n",
    "    return ted_talks['title'].iloc[movie_indices],ted_talks['url'].iloc[movie_indices],ted_talks['summary']"
   ]
  },
  {
   "cell_type": "code",
   "execution_count": 74,
   "metadata": {},
   "outputs": [
    {
     "data": {
      "text/plain": [
       "0                             Do schools kill creativity?\n",
       "1                             Averting the climate crisis\n",
       "2                                        Simplicity sells\n",
       "3                                     Greening the ghetto\n",
       "4                         The best stats you've ever seen\n",
       "                              ...                        \n",
       "2450    What we're missing in the debate about immigra...\n",
       "2451                      The most Martian place on Earth\n",
       "2452    What intelligent machines can learn from a sch...\n",
       "2453         A black man goes undercover in the alt-right\n",
       "2454    How a video game might help us build better ci...\n",
       "Name: title, Length: 2455, dtype: object"
      ]
     },
     "execution_count": 74,
     "metadata": {},
     "output_type": "execute_result"
    }
   ],
   "source": [
    "ted_talks.title"
   ]
  },
  {
   "cell_type": "code",
   "execution_count": 76,
   "metadata": {},
   "outputs": [
    {
     "data": {
      "text/plain": [
       "(2090    Your kids might live on Mars. Here's how they'...\n",
       " 1869    How Mars might hold the secret to the origin o...\n",
       " 348                      There might just be life on Mars\n",
       " 620                        Why we need to go back to Mars\n",
       " 2283                             What time is it on Mars?\n",
       " 2011                Let's not use Mars as a backup planet\n",
       " 1980    Deep under the Earth's surface, discovering be...\n",
       " 2027             The mysterious world of underwater caves\n",
       " 328                      The story behind the Mars Rovers\n",
       " 1552                          My glacier cave discoveries\n",
       " Name: title, dtype: object,\n",
       " 2090    https://www.ted.com/talks/stephen_petranek_you...\n",
       " 1869    https://www.ted.com/talks/nathalie_cabrol_how_...\n",
       " 348             https://www.ted.com/talks/penelope_boston\n",
       " 620                 https://www.ted.com/talks/joel_levine\n",
       " 2283    https://www.ted.com/talks/nagin_cox_what_time_...\n",
       " 2011    https://www.ted.com/talks/lucianne_walkowicz_l...\n",
       " 1980    https://www.ted.com/talks/francesco_sauro_deep...\n",
       " 2027    https://www.ted.com/talks/jill_heinerth_the_my...\n",
       " 328     https://www.ted.com/talks/charles_elachi_on_th...\n",
       " 1552    https://www.ted.com/talks/eddy_cartaya_my_glac...\n",
       " Name: url, dtype: object,\n",
       " 0       I think you'd have to conclude, if you look at...\n",
       " 1       And so I'm going to be conducting a course thi...\n",
       " 2       And the truth is, for years I was a little dep...\n",
       " 3       When she came into my life, we were fighting a...\n",
       " 4       And in the '90s, we have the terrible HIV epid...\n",
       "                               ...                        \n",
       " 2450    A 2017 poll by UCLA of LA County residents fou...\n",
       " 2451    All life on Earth requires water, so in my cas...\n",
       " 2452    Each of these systems that I showed you brings...\n",
       " 2453    And what if I told you that one of the best wa...\n",
       " 2454    In 2014, over 54 percent of the world populati...\n",
       " Name: summary, Length: 2455, dtype: object)"
      ]
     },
     "execution_count": 76,
     "metadata": {},
     "output_type": "execute_result"
    }
   ],
   "source": [
    "get_recommendations('The most Martian place on Earth',cosine_sim,indices)"
   ]
  },
  {
   "cell_type": "markdown",
   "metadata": {},
   "source": [
    "### Conclusion\n",
    "\n",
    "Our work started with merging the two datasets ted_main.csv and transcripts.csv and then the data cleaning process, during which we changed the original order of data columns for convenience and date columns from the Unix timestamps into a human readable format timestamp. And then checked for the Null values, duplicates and dropped the duplicated rows. In the Exploratory Data Analysis section, we analyzed the dataset using plots such as bar plots, box plots and histograms. Furthermore, this section has figured out other significant analysis about our dataset, regarding the most viewed talks of all time, the top 10 speakers and speakers occupations. We also made hypotheses to figure out the relation between views and speakers' occupation. From the ANOVA test, we concluded that There is no statistical significant relationship between views and speakers occupation.We also showed interesting statistics about views, comments distribution and proved their relationship using Pearson correlation statistical test. And we also showed TED Talks distribution over years, months and weekdays, and some of them were a bit surprising. During the analysis we figured out the outliers and did not remove them as they are actual data for our exploratory analysis. We figured out the collinear features through a heat map. We also analysed several other pairs for a meaningful correlation but they do not seemed to be strongly correlated. We showed the duration distribution and observed that the short duration TED talks are more famous, it is more likely that people are interested in shorter duration talks because they are able to grasp the talk’s content easily or they don’t have time to watch longer duration talks. We also analyzed the ratings features and visualized the top 10 most funniest, beautiful, inspiring, jaw-dropping and confusing talks of all time. We investigated the TED wordcloud to know about which words are most often used by TED Speakers as well as TED themes and occupations. \n",
    "\n",
    "Next we moved on to the preprocessing step, there we did feature extraction and feature engineering on the dataset. And then we did text preprocessing on the transcript which includes converting all letters to lower or upper case, converting numbers into words or removing numbers, removing punctuations, accent marks and other diacritics, removing white spaces, removing stop words, sparse terms and particular words. We did sentiment analysis on transcript and derived appropriate rating categories for transcripts from rating feature. And then we visualized the ratings categories with respect to sentiment.\n",
    "\n",
    "Next we applied summarization algorithms using spaCy, Gensim and sumy(LexRank,LSA,etc) to extract the summary from the transcript. We found that summarization with spaCy gave good results compared to others for this dataset. And then we moved onto the Recommendation system, where we created word vectorizer using Tfidf Vectorizer on transcript, then calculated the cosine similarity to find out how similar the TED Talks are to each other and then we built a recommender function based on cosine similarity to get the top 10 most similar talks.\n",
    "\n",
    "\n",
    "**In conclusion, our work led to interesting results, analysis and statistics, but also provided useful tools both for audience and speakers, which allows a better understanding of TED Talks dataset.** \n",
    "\n",
    "This project gave me an opportunity to explore this freely available dataset using NLP and a proper data science pipeline of data wrangling, data analysis, data visualization, prediction, and data storytelling.\n"
   ]
  },
  {
   "cell_type": "markdown",
   "metadata": {},
   "source": [
    "### Future Improvements\n",
    "\n",
    "- The recommendation engines used by the official ted page, will be a degree of magnitude more sophisticated than what we demonstrated here and would also involve use of some sort of historical user-item interaction data. Would love to try the TED Talk recommendation system using historical user-item interaction data if available.\n",
    "\n",
    "- Further analysis can be done over the rating column in the dataset to relate the negative comments with topics of TED talk, and find the area of talk which has received more negative feedback. \n",
    "\n",
    "- We can also make some more analysis over topic and area of TED Talk, by combining some other datasets like news article, social media post etc to find for any pattern between how the hot discussed topics over world found from news article and social media post are included in TED talk topics, around the same time frame as of the hot discussion over the world. \n",
    "\n"
   ]
  },
  {
   "cell_type": "code",
   "execution_count": null,
   "metadata": {},
   "outputs": [],
   "source": []
  }
 ],
 "metadata": {
  "kernelspec": {
   "display_name": "Python 3",
   "language": "python",
   "name": "python3"
  },
  "language_info": {
   "codemirror_mode": {
    "name": "ipython",
    "version": 3
   },
   "file_extension": ".py",
   "mimetype": "text/x-python",
   "name": "python",
   "nbconvert_exporter": "python",
   "pygments_lexer": "ipython3",
   "version": "3.7.4"
  }
 },
 "nbformat": 4,
 "nbformat_minor": 2
}
